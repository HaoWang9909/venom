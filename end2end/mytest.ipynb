{
 "cells": [
  {
   "cell_type": "code",
   "execution_count": 13,
   "metadata": {},
   "outputs": [
    {
     "data": {
      "text/plain": [
       "1048576"
      ]
     },
     "execution_count": 13,
     "metadata": {},
     "output_type": "execute_result"
    }
   ],
   "source": [
    "def calculate_mask_and_columns(tensor, V, N, M):\n",
    "    rows, cols = tensor.shape\n",
    "    mask = torch.zeros_like(tensor, dtype=torch.int32)  # 使用 int32 类型\n",
    "    columns = torch.zeros((rows // V, cols // M * 4), dtype=torch.int32)  # 存储每个块中非零元素的列索引\n",
    "\n",
    "    # 遍历每个 VxM 的块\n",
    "    for row_block in range(0, rows, V):\n",
    "        for col_block in range(0, cols, M):\n",
    "            block = tensor[row_block:row_block + V, col_block:col_block + M]\n",
    "\n",
    "            # 确定块中所有非零元素的列位置\n",
    "            nonzero_cols = block.nonzero(as_tuple=False)[:, 1]  # 获取非零元素的列索引\n",
    "\n",
    "            if len(nonzero_cols) > 0:\n",
    "                # 从中提取前四个不重复的列索引\n",
    "                unique_cols = torch.unique(nonzero_cols)\n",
    "                num_unique = min(len(unique_cols), 4)  # 最多取四列\n",
    "                \n",
    "                # 更新 columns 矩阵\n",
    "                columns[row_block // V, (col_block // M) * 4: (col_block // M) * 4 + num_unique] = unique_cols[:num_unique]\n",
    "                \n",
    "                # 设置 mask\n",
    "                for idx in range(V):  # 对于块中的每一行\n",
    "                    row_nonzero_cols = block[idx, :].nonzero(as_tuple=False).squeeze()\n",
    "                    mask[row_block + idx, col_block + row_nonzero_cols] = 1\n",
    "\n",
    "    return mask, columns"
   ]
  }
 ],
 "metadata": {
  "kernelspec": {
   "display_name": "end2end",
   "language": "python",
   "name": "python3"
  },
  "language_info": {
   "codemirror_mode": {
    "name": "ipython",
    "version": 3
   },
   "file_extension": ".py",
   "mimetype": "text/x-python",
   "name": "python",
   "nbconvert_exporter": "python",
   "pygments_lexer": "ipython3",
   "version": "3.12.4"
  }
 },
 "nbformat": 4,
 "nbformat_minor": 2
}
